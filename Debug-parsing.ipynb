{
 "cells": [
  {
   "cell_type": "code",
   "execution_count": 8,
   "id": "b6415872",
   "metadata": {},
   "outputs": [
    {
     "name": "stdout",
     "output_type": "stream",
     "text": [
      "      Saksnummer             Nemnd\n",
      "0     2016-00844               Fly\n",
      "1     2019-01307               Fly\n",
      "2     2019-03510  Pakkereisenemnda\n",
      "3     2018-04630               Fly\n",
      "4     2018-02241               Fly\n",
      "...          ...               ...\n",
      "7822  2018-02258               Fly\n",
      "7823  2019-04266   Kollektivreiser\n",
      "7824  2020-02879               Fly\n",
      "7825  2018-01037               Fly\n",
      "7826  2016-00685               Fly\n",
      "\n",
      "[7827 rows x 2 columns]\n"
     ]
    }
   ],
   "source": [
    "\n",
    "# Read JSON file into a pandas DataFrame\n",
    "df = pd.read_json(\"vedtak.json\")\n",
    "\n",
    "# Display only the columns 'Saksnummer' and 'Nemnd'\n",
    "print(df[['Saksnummer', 'Nemnd']])"
   ]
  },
  {
   "cell_type": "code",
   "execution_count": 9,
   "id": "cd843562",
   "metadata": {},
   "outputs": [
    {
     "name": "stdout",
     "output_type": "stream",
     "text": [
      "      Saksnummer            Nemnd\n",
      "7239  2020-00274  Kollektivreiser\n"
     ]
    }
   ],
   "source": [
    "import pandas as pd\n",
    "\n",
    "# Read JSON file into a pandas DataFrame\n",
    "df = pd.read_json(\"vedtak.json\")\n",
    "\n",
    "# Filter the DataFrame based on the condition\n",
    "filtered_df = df[df['Saksnummer'] == '2020-00274']\n",
    "\n",
    "# Display only the columns 'Saksnummer' and 'Nemnd' for the filtered data\n",
    "print(filtered_df[['Saksnummer', 'Nemnd']])\n"
   ]
  },
  {
   "cell_type": "code",
   "execution_count": null,
   "id": "d1a7cf35",
   "metadata": {},
   "outputs": [],
   "source": []
  }
 ],
 "metadata": {
  "kernelspec": {
   "display_name": "Python 3 (ipykernel)",
   "language": "python",
   "name": "python3"
  },
  "language_info": {
   "codemirror_mode": {
    "name": "ipython",
    "version": 3
   },
   "file_extension": ".py",
   "mimetype": "text/x-python",
   "name": "python",
   "nbconvert_exporter": "python",
   "pygments_lexer": "ipython3",
   "version": "3.12.3"
  }
 },
 "nbformat": 4,
 "nbformat_minor": 5
}
