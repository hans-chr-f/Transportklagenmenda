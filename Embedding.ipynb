{
 "cells": [
  {
   "cell_type": "code",
   "execution_count": 8,
   "id": "26b28cfc-7d49-4446-94c8-358b7178aa92",
   "metadata": {},
   "outputs": [],
   "source": [
    "import tiktoken\n",
    "\n",
    "def num_tokens_from_string(string: str, encoding_name: str) -> int:\n",
    "    \"\"\"Returns the number of tokens in a text string.\"\"\"\n",
    "    encoding = tiktoken.get_encoding(encoding_name)\n",
    "    num_tokens = len(encoding.encode(string))\n",
    "    return num_tokens"
   ]
  },
  {
   "cell_type": "code",
   "execution_count": 9,
   "id": "0de64e62-04c5-4e3b-84a7-da99defcdf70",
   "metadata": {},
   "outputs": [],
   "source": [
    "import os\n",
    "\n",
    "tokens_list = []\n",
    "# Define the directory containing the files\n",
    "directory = './transportklagenmnda_txt/'\n",
    "\n",
    "# Process each file in the directory\n",
    "for filename in os.listdir(directory):\n",
    "    file_path = os.path.join(directory, filename)\n",
    "    \n",
    "    # Check if it is a file\n",
    "    if os.path.isfile(file_path):\n",
    "        try:\n",
    "            # Open and process the file (example: reading content)\n",
    "            with open(file_path, 'r') as file:\n",
    "                content = file.read()\n",
    "                # Example: print the first 100 characters of each file\n",
    "                num_tokens = num_tokens_from_string(content, 'cl100k_base')\n",
    "                tokens_list.append(num_tokens)\n",
    "        except Exception as e:\n",
    "            print(f\"Error processing file {filename}: {e}\")\n"
   ]
  },
  {
   "cell_type": "code",
   "execution_count": 10,
   "id": "205f422b-eec0-41dd-be65-33c0f958db01",
   "metadata": {},
   "outputs": [
    {
     "data": {
      "text/plain": [
       "7654"
      ]
     },
     "execution_count": 10,
     "metadata": {},
     "output_type": "execute_result"
    }
   ],
   "source": [
    "max(tokens_list)"
   ]
  },
  {
   "cell_type": "code",
   "execution_count": 13,
   "id": "a58feacd-3782-4f55-ac16-1a52f791122b",
   "metadata": {},
   "outputs": [
    {
     "ename": "ModuleNotFoundError",
     "evalue": "No module named 'umap'",
     "output_type": "error",
     "traceback": [
      "\u001b[0;31m---------------------------------------------------------------------------\u001b[0m",
      "\u001b[0;31mModuleNotFoundError\u001b[0m                       Traceback (most recent call last)",
      "Cell \u001b[0;32mIn[13], line 4\u001b[0m\n\u001b[1;32m      2\u001b[0m \u001b[38;5;28;01mfrom\u001b[39;00m \u001b[38;5;21;01mmpl_toolkits\u001b[39;00m\u001b[38;5;21;01m.\u001b[39;00m\u001b[38;5;21;01mmplot3d\u001b[39;00m \u001b[38;5;28;01mimport\u001b[39;00m Axes3D\n\u001b[1;32m      3\u001b[0m \u001b[38;5;28;01mfrom\u001b[39;00m \u001b[38;5;21;01mmatplotlib\u001b[39;00m\u001b[38;5;21;01m.\u001b[39;00m\u001b[38;5;21;01mcolors\u001b[39;00m \u001b[38;5;28;01mimport\u001b[39;00m ListedColormap\n\u001b[0;32m----> 4\u001b[0m \u001b[38;5;28;01mfrom\u001b[39;00m \u001b[38;5;21;01mumap\u001b[39;00m\u001b[38;5;21;01m.\u001b[39;00m\u001b[38;5;21;01mumap_\u001b[39;00m \u001b[38;5;28;01mimport\u001b[39;00m UMAP\n\u001b[1;32m      9\u001b[0m \u001b[38;5;66;03m# Get the embeddings for the support documents from the collection\u001b[39;00m\n\u001b[1;32m     10\u001b[0m support_embeddings \u001b[38;5;241m=\u001b[39m collection\u001b[38;5;241m.\u001b[39mget(include\u001b[38;5;241m=\u001b[39m[\u001b[38;5;124m'\u001b[39m\u001b[38;5;124membeddings\u001b[39m\u001b[38;5;124m'\u001b[39m])[\u001b[38;5;124m'\u001b[39m\u001b[38;5;124membeddings\u001b[39m\u001b[38;5;124m'\u001b[39m]\n",
      "\u001b[0;31mModuleNotFoundError\u001b[0m: No module named 'umap'"
     ]
    }
   ],
   "source": [
    "import matplotlib.pyplot as plt\n",
    "from mpl_toolkits.mplot3d import Axes3D\n",
    "from matplotlib.colors import ListedColormap\n",
    "from umap.umap_ import UMAP\n",
    "\n",
    "\n",
    "\n",
    "\n",
    "# Get the embeddings for the support documents from the collection\n",
    "support_embeddings = collection.get(include=['embeddings'])['embeddings']\n",
    "\n",
    "# Get the 'metadatas' for each point\n",
    "metadata_list = collection.get(include=['metadatas'])['metadatas']\n",
    "\n",
    "# Extract 'nemnd' values from the metadata list\n",
    "nemnd_values = [meta['nemnd'] for meta in metadata_list]\n",
    "\n",
    "# Define an integer mapping for each nemnd value\n",
    "nemnd_keywords = [\"Fly\", \"Sjø\", \"Kollektivreiser\", \"Pakkereisenemnda\"]\n",
    "int_map = {\"Fly\": 0, \"Sjø\": 1, \"Kollektivreiser\": 2, \"Pakkereisenemnda\": 3}\n",
    "int_values = np.array([int_map[val] for val in nemnd_values])\n",
    "\n",
    "# Define a custom colormap\n",
    "colors = [\"red\", \"green\", \"blue\", \"purple\"]\n",
    "\n",
    "# 1. Modify UMAP to project to 3D\n",
    "mapper = UMAP(n_components=3).fit(support_embeddings)\n",
    "\n",
    "# Extract the 3D coordinates\n",
    "x = mapper.embedding_[:, 0]\n",
    "y = mapper.embedding_[:, 1]\n",
    "z = mapper.embedding_[:, 2]\n",
    "\n",
    "# Define a custom colormap\n",
    "colors = [\"red\", \"green\", \"blue\", \"purple\"]\n",
    "custom_cmap = ListedColormap(colors)\n",
    "\n",
    "# 2. Plot using matplotlib's 3D capabilities\n",
    "fig = plt.figure(figsize=(10, 10))\n",
    "ax = fig.add_subplot(111, projection='3d')\n",
    "\n",
    "# Rotate the view 30 degrees clockwise\n",
    "elev = ax.elev  # Keep the current elevation angle\n",
    "azim = ax.azim  # Get the current azimuthal angle\n",
    "ax.view_init(elev=elev, azim=azim+50)  # Adjust the azimuthal angle by 30 degrees\n",
    "\n",
    "\n",
    "# Scatter plot with custom colors and transparency\n",
    "scatter = ax.scatter(x, y, z, c=int_values, cmap=custom_cmap, s=0.1, alpha=0.8)\n",
    "\n",
    "# Create a legend for the custom colormap\n",
    "handles = [plt.Line2D([0], [0], linestyle='', marker='o', color='w', markerfacecolor=col, markersize=10) for col in colors]\n",
    "ax.legend(handles, nemnd_keywords, title=\"Nemnd Keywords\")\n",
    "\n",
    "plt.show()\n"
   ]
  },
  {
   "cell_type": "code",
   "execution_count": null,
   "id": "f6c5c3a1-831c-4b62-9813-3a7c2b84d881",
   "metadata": {},
   "outputs": [],
   "source": []
  }
 ],
 "metadata": {
  "kernelspec": {
   "display_name": "Python 3 (ipykernel)",
   "language": "python",
   "name": "python3"
  },
  "language_info": {
   "codemirror_mode": {
    "name": "ipython",
    "version": 3
   },
   "file_extension": ".py",
   "mimetype": "text/x-python",
   "name": "python",
   "nbconvert_exporter": "python",
   "pygments_lexer": "ipython3",
   "version": "3.12.3"
  }
 },
 "nbformat": 4,
 "nbformat_minor": 5
}
