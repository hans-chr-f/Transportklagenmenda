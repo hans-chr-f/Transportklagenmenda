{
 "cells": [
  {
   "cell_type": "code",
   "execution_count": 8,
   "id": "26b28cfc-7d49-4446-94c8-358b7178aa92",
   "metadata": {},
   "outputs": [],
   "source": [
    "import tiktoken\n",
    "\n",
    "def num_tokens_from_string(string: str, encoding_name: str) -> int:\n",
    "    \"\"\"Returns the number of tokens in a text string.\"\"\"\n",
    "    encoding = tiktoken.get_encoding(encoding_name)\n",
    "    num_tokens = len(encoding.encode(string))\n",
    "    return num_tokens"
   ]
  },
  {
   "cell_type": "code",
   "execution_count": 9,
   "id": "0de64e62-04c5-4e3b-84a7-da99defcdf70",
   "metadata": {},
   "outputs": [],
   "source": [
    "import os\n",
    "\n",
    "tokens_list = []\n",
    "# Define the directory containing the files\n",
    "directory = './transportklagenmnda_txt/'\n",
    "\n",
    "# Process each file in the directory\n",
    "for filename in os.listdir(directory):\n",
    "    file_path = os.path.join(directory, filename)\n",
    "    \n",
    "    # Check if it is a file\n",
    "    if os.path.isfile(file_path):\n",
    "        try:\n",
    "            # Open and process the file (example: reading content)\n",
    "            with open(file_path, 'r') as file:\n",
    "                content = file.read()\n",
    "                # Example: print the first 100 characters of each file\n",
    "                num_tokens = num_tokens_from_string(content, 'cl100k_base')\n",
    "                tokens_list.append(num_tokens)\n",
    "        except Exception as e:\n",
    "            print(f\"Error processing file {filename}: {e}\")\n"
   ]
  },
  {
   "cell_type": "code",
   "execution_count": 10,
   "id": "205f422b-eec0-41dd-be65-33c0f958db01",
   "metadata": {},
   "outputs": [
    {
     "data": {
      "text/plain": [
       "7654"
      ]
     },
     "execution_count": 10,
     "metadata": {},
     "output_type": "execute_result"
    }
   ],
   "source": [
    "max(tokens_list)"
   ]
  },
  {
   "cell_type": "code",
   "execution_count": null,
   "id": "a58feacd-3782-4f55-ac16-1a52f791122b",
   "metadata": {},
   "outputs": [],
   "source": []
  }
 ],
 "metadata": {
  "kernelspec": {
   "display_name": "Python 3 (ipykernel)",
   "language": "python",
   "name": "python3"
  },
  "language_info": {
   "codemirror_mode": {
    "name": "ipython",
    "version": 3
   },
   "file_extension": ".py",
   "mimetype": "text/x-python",
   "name": "python",
   "nbconvert_exporter": "python",
   "pygments_lexer": "ipython3",
   "version": "3.12.3"
  }
 },
 "nbformat": 4,
 "nbformat_minor": 5
}
