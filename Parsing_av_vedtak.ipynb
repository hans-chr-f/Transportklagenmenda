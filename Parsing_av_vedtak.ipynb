{
 "cells": [
  {
   "cell_type": "code",
   "execution_count": 29,
   "id": "0ac8c714-cd49-4fbe-9354-b3826a1abba3",
   "metadata": {},
   "outputs": [],
   "source": [
    "import os\n",
    "import json\n",
    "\n",
    "def process_files(directory, keywords, output_file):\n",
    "    with open(output_file, 'w', encoding='utf-8') as jsonl_file:\n",
    "        for filename in os.listdir(directory):\n",
    "            if filename.endswith(\".txt\"):\n",
    "                filepath = os.path.join(directory, filename)\n",
    "                file_id = os.path.splitext(filename)[0]\n",
    "\n",
    "                try:\n",
    "                    with open(filepath, 'r', encoding='utf-8') as file:\n",
    "                        content = file.read()\n",
    "                        file.seek(0)  # Reset file pointer to start\n",
    "                        found_nemnd = None\n",
    "                        lines_to_check = []\n",
    "                        for line in file:\n",
    "                            if line.startswith(\"Vedtak i\"):\n",
    "                                lines_to_check.append(line.strip())\n",
    "                                # Read the next line if it exists\n",
    "                                next_line = next(file, '').strip()\n",
    "                                if next_line:\n",
    "                                    lines_to_check.append(next_line)\n",
    "                                # Search for keywords in lines_to_check\n",
    "                                for keyword in keywords:\n",
    "                                    if any(keyword in l for l in lines_to_check):\n",
    "                                        found_nemnd = keyword\n",
    "                                        break\n",
    "                                if not found_nemnd:\n",
    "                                    print(f\"No nemnd found for {filename}\")\n",
    "                                break  # Exit after processing 'Vedtak I' and next line\n",
    "                        else:\n",
    "                            print(f\"'Vedtak i' not found in {filename}\")\n",
    "\n",
    "                    # Write the result to the JSONL file\n",
    "                    json_obj = {\n",
    "                        'id': file_id,\n",
    "                        'nemnd': found_nemnd if found_nemnd else '',\n",
    "                        'content': content\n",
    "                    }\n",
    "                    jsonl_file.write(json.dumps(json_obj, ensure_ascii=False) + '\\n')\n",
    "\n",
    "                except Exception as e:\n",
    "                    print(f\"Error processing file {filename}: {e}\")\n",
    "\n",
    "# Set the directory and keywords\n",
    "directory_path = './transportklagenmnda_txt/'\n",
    "nemnd_keywords = [\"Fly\", \"Sjø\", \"Kollektivreiser\", \"Pakkereisenemnda\"]\n",
    "\n",
    "# Process the files and save to 'vedtak.jsonl' in the current directory\n",
    "process_files(directory_path, nemnd_keywords, 'vedtak.jsonl')\n"
   ]
  },
  {
   "cell_type": "code",
   "execution_count": null,
   "id": "a8e3c166-d9b7-415b-9bed-016c154b8be3",
   "metadata": {},
   "outputs": [],
   "source": [
    "    "
   ]
  }
 ],
 "metadata": {
  "kernelspec": {
   "display_name": "Python 3 (ipykernel)",
   "language": "python",
   "name": "python3"
  },
  "language_info": {
   "codemirror_mode": {
    "name": "ipython",
    "version": 3
   },
   "file_extension": ".py",
   "mimetype": "text/x-python",
   "name": "python",
   "nbconvert_exporter": "python",
   "pygments_lexer": "ipython3",
   "version": "3.12.3"
  }
 },
 "nbformat": 4,
 "nbformat_minor": 5
}
