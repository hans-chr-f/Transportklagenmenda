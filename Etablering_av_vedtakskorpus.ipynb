{
 "cells": [
  {
   "cell_type": "markdown",
   "id": "3bedb3bf",
   "metadata": {},
   "source": [
    "# Etablering av et korpus med vedtak fra Transportklagenemnda\n",
    "\n",
    "## Etablering av et pdf-korpus\n",
    "\n",
    "Nettstedet [reiselivsforum.no](reiselivsforum.no) publiserer avgjørelser fra Transportklagenemnda og Pakkereisenemnda.  Vi har lastet ned alle avgjørelsen i pdf-format. Nettsiden tilbyr ikke samlet nedlasting av alle avgjørelser; det er nødvendig å lage et eget program for å laste ned alle. Vi har utviklet et skript i Python-modulen Scrapy som har lastet ned filer. Alle pdf-er er lastet ned til samme mappe. Pdf-ene er lagret med saksnummeret som filnavn. Søkemotoren på reiselivsforum.no oppgir totalt antall vedtak til 14160 pr. 15. oktober 2023. Skriptet lastet ned 13974 vedtak. Hva diskrepansen på 185 vedtak skyldes, vet vi ikke. \n",
    "\n",
    "Selv om vi har lasted ned vedtakene fra nemndens egen nettside, har mange av de eldste et rettighetsforbehold fra Lovdata. Forbeholdet ser ut til å være  standardformulering, og den er lik i alle vedtakene som har et forbehold:\n",
    "> De publiserte nemndsavgjørelsene er bearbeidet av stiftelsen Lovdata, som innehar rettighetene til dokumentene. Utnyttelse av nemndsavgjørelsene til forlagsvirksomhet, distribusjon, drift av søkbare databaser eller opplæringsvirksomhet krever særskilt avtale med Lovdata. Lovdata avgjør i tvilstilfelle hva som faller inn under nevnte kategorier.\n",
    "\n",
    "Det kan diskuteres om et slikt forbehold står seg opp mot bestemmelser som offentlighetslovens § 14. Vår bruk av vedtakene faller uansett ikke inn under forbeholdet. Her kan det være verdt å merke seg at forbeholdet står i vedtakene som er tilgjengelig for nedlasting på nemndenes egen nettside. \n",
    "\n",
    "\n",
    "\n",
    "**Her må vi inn med en oversikt over antall vedtak pr. år. pr. nemnd. Kanskje det blir mulig å si noe om de 258 vi manglet også.**\n",
    "\n",
    "\n",
    "## Konverting av pdf-er til ren tekst\n",
    "\n",
    "For at avgjørelsene skal kunne brukes videre og behandles maskinelt, må pdf-ene konverteres til ren tekst. Nøyaktig konvertering til ren tekst er viktig for å kunne identifisere de ulike delene av vedtaket. Særlig kommer dette godt med når vi skal identifisere mindretallsvotum, og når vi skal eksperimentere med å bruke ulike deler av dokumentet som kontekst for språkmodellen (se under).\n",
    "\n",
    "Vi prøver først å konvertere et vedtak i pdf til tekst med PyPDF2. "
   ]
  },
  {
   "cell_type": "code",
   "execution_count": 10,
   "id": "bfb20cf0",
   "metadata": {},
   "outputs": [
    {
     "name": "stdout",
     "output_type": "stream",
     "text": [
      "Vedtak i Pakkereisenemnda\n",
      "Sammendrag\n",
      "Krav om dekning av merutgifter da togreisen \"Norway in a nutshell\" ble kansellert.\n",
      "Dato\n",
      "30.04.2017\n",
      "Saksnummer\n",
      "2016-00003\n",
      "Tjenesteytere\n",
      "Fjord Tours\n",
      "Klager har i det vesentlige anført\n",
      "Klager bestilte reisen \"Norway in a nutshell\" fra Oslo 15. - 16. oktober 2016 hos Fjord\n",
      "Tours.\n",
      "Først da klager ankom Myrdal, fant de ut at togreisen \"Norway in a nutshell\" var\n",
      "kansellert. Klager ble ikke informert om dette.  \n",
      "Hverken Fjord Tours eller NSB vil dekke klagers merutgifter til hotell, ﬂy, buss, taxi, tog og\n",
      "tapt arbeidsfortjeneste.\n",
      "Klager har fått refundert prisen for \"Norway in a nutshell\" med kr. 5.300, men krever å\n",
      "få dekket de øvrige merutgiftene på kr. 6.270,57 fra Fjord Tours i og med at han bestilte\n",
      "reisen hos Fjord Tours og ikke direkte hos NSB.\n",
      "Det vises for øvrig til korrespondanse fra klager.\n",
      "Tjenesteyterne har i det vesentlige anført\n",
      "Fjord Tours har anført at saken er avsluttet fra Fjord Tours side da de i mail av 18.10.2016\n",
      "informerte om at de ville refundere rundturen \"Norway in a nutshell\" kjøpt gjennom\n",
      "Fjord Tours, med kr. 5.300.\n",
      "Togreisen ble kansellert grunnet politisk streik hos de ansatte i NSB. Fjord Tours mottok\n",
      "informasjon om de kansellerte togene kort tid før avgang og gjorde sitt beste for å\n",
      "organisere alternative reiseruter for sine kunder. Fjord Tours skriver at de sendte mail til\n",
      "klager om kanselleringen fredag 14.10.2016.\n",
      "I og med at streiken var forhold utenfor Fjord Tours kontroll, henviste de klager videre til\n",
      "sitt forsikringsselskap eller til NSB Servicesenter i mail av 18.10.2016.  Fjord Tours viser til at klager tok kontakt med NSB Servicesenter den 26.10.2016 og\n",
      "mener at saken derfor må tas videre med NSB.\n",
      "Det vises for øvrig til korrespondanse fra Fjord Tours.\n",
      "Nemnda bemerker\n",
      "Saken gjelder spørsmålet om arrangøren av Fjord Tours er erstatningsansvarlig for\n",
      "utgifter klageren har pådratt seg i forbindelse med at turen ble kansellert på kort varsel\n",
      "etter at klageren hadde kommet til Norge. Grunnen til kanselleringen var streiken blant\n",
      "NSB-ansatte.  Streiken startet 29. september 2016 og ble trappet opp 8. oktober 2016\n",
      "ifølge oﬃsielle opplysninger fra NSB på nsb.no.  \n",
      "Etter nemndas syn er arrangøren ansvarlig for å varsle turdeltakerne på et så tidlig\n",
      "tidspunkt som mulig.  Nemnda tar ikke endelig stilling til om det ble sendt noen mail fra\n",
      "arrangøren til klageren kort tid før 15. oktober, men lite tyder på det, ettersom klageren\n",
      "la ut på reisen.  Uansett ﬁnner nemnda at det er uaktsomt av arrangøren ikke å varsle\n",
      "om at turen ikke lot seg gjennomføre på et tidligere tidspunkt, tatt i betraktning av at NSB\n",
      "varslet opptrapping av streiken den 8. oktober 2016.  De ble da opplyst at blant annet\n",
      "noen av togene mellom Oslo og Bergen samt togene på Vossebanen og Arnalokalen ville\n",
      "bli tatt ut i streik.  \n",
      "Etter nemndas syn var det meget risikabelt å satse på at turen kunne gjennomføres etter\n",
      "at varselet om opptrappingen ble gitt den 8. oktober.   \n",
      "Turen startet fra Oslo med tog 15. oktober og gikk deretter med tog fra Bergen til Voss og\n",
      "buss til Gudvangen. Resten av turen lot seg ikke gjennomføre og klageren måtte ta seg\n",
      "tilbake til Bergen på egenhånd. \n",
      "Klageren har fått refundert det som var innbetalt til arrangøren, kr. 5.300, men krever i\n",
      "tillegg erstattet kr. 6.270,57.\n",
      "Den som blir satt i en erstatningsbetingende situasjon har et selvstendig ansvar for å\n",
      "begrense skaden. \n",
      "Nemnda har gjennomgått de forskjellige postene i kravet.  Etter nemndas syn kan\n",
      "det ikke kreves refusjon for en ﬂybillett som ble bestilt og betalt uten at man på\n",
      "forhånd hadde sjekket om man ville rekke en connecting ﬂight fra Oslo lufthavn til\n",
      "Serbia. Bussutgiften fra Bergen til Flesland kan nemnda heller ikke se at det kan kreves\n",
      "erstatning for, fordi utgiften etter all sannsynlighet henger sammen med det faktum\n",
      "at man ikke sjekket ﬂytider etc. og derfor reiste forgjeves ut til Flesland. Nemnda kan\n",
      "heller ikke se at klageren har krav på dekning for to ekstra dager i Oslo og for tapt\n",
      "arbeidsfortjeneste. Turen ble tvert imot forkortet og ﬂybilletten til Serbia kunne endres,noe det er krevet erstatning for. Basert på klagerens egen talloppstilling i klagen, ﬁnner\n",
      "nemnda at arrangøren bør erstatte kr. 603,30 av de utgiftene som fremgår av klagen.\n",
      "Vedtak\n",
      "Nemnda anbefaler at klageren får erstattet utgifter med kr. 603,30.\n",
      "Nemndas representanter\n",
      "Wenche Skjæggestad  (leder)\n",
      "Anne Soﬁe Faye-Lund (Forbrukerrådet)\n",
      "Kristoﬀer Sørlie (Forbrukerrådet)\n",
      "Hanne Åsell (TUI Norge AS)\n",
      "Anne Edvardsen (Ving Norge AS)\n"
     ]
    }
   ],
   "source": [
    "import os\n",
    "import PyPDF2\n",
    "\n",
    "def pdf_to_text_pyPDF2(pdf_path):\n",
    "    with open(pdf_path, 'rb') as file:\n",
    "        pdf_reader = PyPDF2.PdfReader(file)        \n",
    "        text = \"\"\n",
    "        for page_num in range(len(pdf_reader.pages)):\n",
    "            page = pdf_reader.pages[page_num]\n",
    "            text += page.extract_text()    \n",
    "    return text\n",
    "\n",
    "path_to_pdf = \"./transportklagenemnda_pdfs/2016-00003.pdf\"\n",
    "text = pdf_to_text_pyPDF2(path_to_pdf)\n",
    "print(text)"
   ]
  },
  {
   "cell_type": "markdown",
   "id": "2af1d5e2",
   "metadata": {},
   "source": [
    "Som vi ser mangler det en del struktur. Det er vanskelig å identifisere overskrifter og avsnitt. Vi prøver derfor å konvertere pdf-ene til ren tekst med **tika**. Tika returner tekst med bedre struktur, men den kan forbedres litt:\n",
    "- Vi får en del blanke linjer i begynnelsen og slutten av vedtakene. Dette kan vi fjerne med strip-funksjonen.\n",
    "- Vi får noen ekstra linjeskift der pdf-ene har sideskift. \n",
    "\n",
    "Innspeksjon av flere vedtak viser at sideskift i pdf-en konverteres til fire linjeskift, dvs. `(\"\\n\\n\\n\\n\")`. Hvis vi fjerner alle fire vil vi få sammenhengende tekst, men i noen tilfeller skal det være linjeskift på samme sted som sideskiftet. Innspeksjon av konverterte tekstfiler viser at det ofte er et mellomrom foran de fire linjeskiftene der det skal være et linjeskift, men dette gjelder ikke alltid. Vi velger derfor å fjerne to linjeskift som et utgangspunkt. Da unngår vi å fjerne linjeskift der det skal være et. I tilfeller der linjen etter sideskiftet begynner med liten bokstav antar vi at det bare skal være et ordinært linjeskift. Da fjerner vi tre linjeskift. Denne tilnærmingen løser mye, men har en svakhet: Vi skiller ikke mellom sideskift som kommer der det er nytt avsnitt i teksten og sideskift der det kommer en ny setning i teksten. Konsekvensen er at sideskift som faller sammen med at ny setning i samme avsnitt påbegynnes, innfører en ekstra avsnittsmarkering. For vårt formål virker dette å være uproblematisk."
   ]
  },
  {
   "cell_type": "code",
   "execution_count": 7,
   "id": "9c261807-db23-47cc-a6d8-269dad51f7df",
   "metadata": {
    "collapsed": true,
    "jupyter": {
     "outputs_hidden": true
    }
   },
   "outputs": [
    {
     "ename": "OSError",
     "evalue": "Background processes not supported.",
     "output_type": "error",
     "traceback": [
      "\u001b[0;31m---------------------------------------------------------------------------\u001b[0m",
      "\u001b[0;31mOSError\u001b[0m                                   Traceback (most recent call last)",
      "Cell \u001b[0;32mIn[7], line 2\u001b[0m\n\u001b[1;32m      1\u001b[0m \u001b[38;5;66;03m# Starter en lokal tika-server\u001b[39;00m\n\u001b[0;32m----> 2\u001b[0m \u001b[43mget_ipython\u001b[49m\u001b[43m(\u001b[49m\u001b[43m)\u001b[49m\u001b[38;5;241;43m.\u001b[39;49m\u001b[43msystem\u001b[49m\u001b[43m(\u001b[49m\u001b[38;5;124;43m'\u001b[39;49m\u001b[38;5;124;43m java -jar ./tika-server-standard-2.6.0.jar &\u001b[39;49m\u001b[38;5;124;43m'\u001b[39;49m\u001b[43m)\u001b[49m\n",
      "File \u001b[0;32m/Library/Frameworks/Python.framework/Versions/3.12/lib/python3.12/site-packages/ipykernel/zmqshell.py:641\u001b[0m, in \u001b[0;36mZMQInteractiveShell.system_piped\u001b[0;34m(self, cmd)\u001b[0m\n\u001b[1;32m    634\u001b[0m \u001b[38;5;28;01mif\u001b[39;00m cmd\u001b[38;5;241m.\u001b[39mrstrip()\u001b[38;5;241m.\u001b[39mendswith(\u001b[38;5;124m\"\u001b[39m\u001b[38;5;124m&\u001b[39m\u001b[38;5;124m\"\u001b[39m):\n\u001b[1;32m    635\u001b[0m     \u001b[38;5;66;03m# this is *far* from a rigorous test\u001b[39;00m\n\u001b[1;32m    636\u001b[0m     \u001b[38;5;66;03m# We do not support backgrounding processes because we either use\u001b[39;00m\n\u001b[1;32m    637\u001b[0m     \u001b[38;5;66;03m# pexpect or pipes to read from.  Users can always just call\u001b[39;00m\n\u001b[1;32m    638\u001b[0m     \u001b[38;5;66;03m# os.system() or use ip.system=ip.system_raw\u001b[39;00m\n\u001b[1;32m    639\u001b[0m     \u001b[38;5;66;03m# if they really want a background process.\u001b[39;00m\n\u001b[1;32m    640\u001b[0m     msg \u001b[38;5;241m=\u001b[39m \u001b[38;5;124m\"\u001b[39m\u001b[38;5;124mBackground processes not supported.\u001b[39m\u001b[38;5;124m\"\u001b[39m\n\u001b[0;32m--> 641\u001b[0m     \u001b[38;5;28;01mraise\u001b[39;00m \u001b[38;5;167;01mOSError\u001b[39;00m(msg)\n\u001b[1;32m    643\u001b[0m \u001b[38;5;66;03m# we explicitly do NOT return the subprocess status code, because\u001b[39;00m\n\u001b[1;32m    644\u001b[0m \u001b[38;5;66;03m# a non-None value would trigger :func:`sys.displayhook` calls.\u001b[39;00m\n\u001b[1;32m    645\u001b[0m \u001b[38;5;66;03m# Instead, we store the exit_code in user_ns.\u001b[39;00m\n\u001b[1;32m    646\u001b[0m \u001b[38;5;66;03m# Also, protect system call from UNC paths on Windows here too\u001b[39;00m\n\u001b[1;32m    647\u001b[0m \u001b[38;5;66;03m# as is done in InteractiveShell.system_raw\u001b[39;00m\n\u001b[1;32m    648\u001b[0m \u001b[38;5;28;01mif\u001b[39;00m sys\u001b[38;5;241m.\u001b[39mplatform \u001b[38;5;241m==\u001b[39m \u001b[38;5;124m\"\u001b[39m\u001b[38;5;124mwin32\u001b[39m\u001b[38;5;124m\"\u001b[39m:\n",
      "\u001b[0;31mOSError\u001b[0m: Background processes not supported."
     ]
    }
   ],
   "source": [
    "# Starter en lokal tika-serverb\n",
    "! java -jar ./tika-server-standard-2.6.0.jar &"
   ]
  },
  {
   "cell_type": "code",
   "execution_count": 1,
   "id": "7c0ffb01-f49b-4caa-8412-5e4e19d22f29",
   "metadata": {},
   "outputs": [
    {
     "name": "stdout",
     "output_type": "stream",
     "text": [
      "Name: ipython\n",
      "Version: 8.24.0\n",
      "Summary: IPython: Productive Interactive Computing\n",
      "Home-page: https://ipython.org\n",
      "Author: The IPython Development Team\n",
      "Author-email: ipython-dev@python.org\n",
      "License: BSD-3-Clause\n",
      "Location: /Library/Frameworks/Python.framework/Versions/3.12/lib/python3.12/site-packages\n",
      "Requires: decorator, jedi, matplotlib-inline, pexpect, prompt-toolkit, pygments, stack-data, traitlets\n",
      "Required-by: ipykernel, ipympl, ipywidgets, jupyter-console\n"
     ]
    }
   ],
   "source": [
    "!pip show ipython"
   ]
  },
  {
   "cell_type": "code",
   "execution_count": 8,
   "id": "2858151c",
   "metadata": {},
   "outputs": [
    {
     "name": "stdout",
     "output_type": "stream",
     "text": [
      "TIKA_SERVER_JAR = None\n",
      "Vedtak i Pakkereisenemnda\n",
      "\n",
      "Sammendrag\n",
      "\n",
      "Krav om dekning av merutgifter da togreisen \"Norway in a nutshell\" ble kansellert.\n",
      "\n",
      "Dato\n",
      "30.04.2017\n",
      "\n",
      "Saksnummer\n",
      "2016-00003\n",
      "\n",
      "Tjenesteytere\n",
      "Fjord Tours\n",
      "\n",
      "Klager har i det vesentlige anført\n",
      "\n",
      "Klager bestilte reisen \"Norway in a nutshell\" fra Oslo 15. - 16. oktober 2016 hos Fjord\n",
      "Tours.\n",
      "\n",
      "Først da klager ankom Myrdal, fant de ut at togreisen \"Norway in a nutshell\" var\n",
      "kansellert. Klager ble ikke informert om dette.  \n",
      "\n",
      "Hverken Fjord Tours eller NSB vil dekke klagers merutgifter til hotell, fly, buss, taxi, tog og\n",
      "tapt arbeidsfortjeneste.\n",
      "\n",
      "Klager har fått refundert prisen for \"Norway in a nutshell\" med kr. 5.300, men krever å\n",
      "få dekket de øvrige merutgiftene på kr. 6.270,57 fra Fjord Tours i og med at han bestilte\n",
      "reisen hos Fjord Tours og ikke direkte hos NSB.\n",
      "\n",
      "Det vises for øvrig til korrespondanse fra klager.\n",
      "\n",
      "Tjenesteyterne har i det vesentlige anført\n",
      "Fjord Tours har anført at saken er avsluttet fra Fjord Tours side da de i mail av 18.10.2016\n",
      "informerte om at de ville refundere rundturen \"Norway in a nutshell\" kjøpt gjennom\n",
      "Fjord Tours, med kr. 5.300.\n",
      "\n",
      "Togreisen ble kansellert grunnet politisk streik hos de ansatte i NSB. Fjord Tours mottok\n",
      "informasjon om de kansellerte togene kort tid før avgang og gjorde sitt beste for å\n",
      "organisere alternative reiseruter for sine kunder. Fjord Tours skriver at de sendte mail til\n",
      "klager om kanselleringen fredag 14.10.2016.\n",
      "\n",
      "I og med at streiken var forhold utenfor Fjord Tours kontroll, henviste de klager videre til\n",
      "sitt forsikringsselskap eller til NSB Servicesenter i mail av 18.10.2016.  \n",
      "\n",
      "Fjord Tours viser til at klager tok kontakt med NSB Servicesenter den 26.10.2016 og\n",
      "mener at saken derfor må tas videre med NSB.\n",
      "\n",
      "Det vises for øvrig til korrespondanse fra Fjord Tours.\n",
      "\n",
      "Nemnda bemerker\n",
      "\n",
      "Saken gjelder spørsmålet om arrangøren av Fjord Tours er erstatningsansvarlig for\n",
      "utgifter klageren har pådratt seg i forbindelse med at turen ble kansellert på kort varsel\n",
      "etter at klageren hadde kommet til Norge. Grunnen til kanselleringen var streiken blant\n",
      "NSB-ansatte.  Streiken startet 29. september 2016 og ble trappet opp 8. oktober 2016\n",
      "ifølge offisielle opplysninger fra NSB på nsb.no.  \n",
      "\n",
      "Etter nemndas syn er arrangøren ansvarlig for å varsle turdeltakerne på et så tidlig\n",
      "tidspunkt som mulig.  Nemnda tar ikke endelig stilling til om det ble sendt noen mail fra\n",
      "arrangøren til klageren kort tid før 15. oktober, men lite tyder på det, ettersom klageren\n",
      "la ut på reisen.  Uansett finner nemnda at det er uaktsomt av arrangøren ikke å varsle\n",
      "om at turen ikke lot seg gjennomføre på et tidligere tidspunkt, tatt i betraktning av at NSB\n",
      "varslet opptrapping av streiken den 8. oktober 2016.  De ble da opplyst at blant annet\n",
      "noen av togene mellom Oslo og Bergen samt togene på Vossebanen og Arnalokalen ville\n",
      "bli tatt ut i streik.  \n",
      "\n",
      "Etter nemndas syn var det meget risikabelt å satse på at turen kunne gjennomføres etter\n",
      "at varselet om opptrappingen ble gitt den 8. oktober.   \n",
      "\n",
      "Turen startet fra Oslo med tog 15. oktober og gikk deretter med tog fra Bergen til Voss og\n",
      "buss til Gudvangen. Resten av turen lot seg ikke gjennomføre og klageren måtte ta seg\n",
      "tilbake til Bergen på egenhånd. \n",
      "\n",
      "Klageren har fått refundert det som var innbetalt til arrangøren, kr. 5.300, men krever i\n",
      "tillegg erstattet kr. 6.270,57.\n",
      "\n",
      "Den som blir satt i en erstatningsbetingende situasjon har et selvstendig ansvar for å\n",
      "begrense skaden. \n",
      "\n",
      "Nemnda har gjennomgått de forskjellige postene i kravet.  Etter nemndas syn kan\n",
      "det ikke kreves refusjon for en flybillett som ble bestilt og betalt uten at man på\n",
      "forhånd hadde sjekket om man ville rekke en connecting flight fra Oslo lufthavn til\n",
      "Serbia. Bussutgiften fra Bergen til Flesland kan nemnda heller ikke se at det kan kreves\n",
      "erstatning for, fordi utgiften etter all sannsynlighet henger sammen med det faktum\n",
      "at man ikke sjekket flytider etc. og derfor reiste forgjeves ut til Flesland. Nemnda kan\n",
      "heller ikke se at klageren har krav på dekning for to ekstra dager i Oslo og for tapt\n",
      "arbeidsfortjeneste. Turen ble tvert imot forkortet og flybilletten til Serbia kunne endres,\n",
      "noe det er krevet erstatning for. Basert på klagerens egen talloppstilling i klagen, finner\n",
      "nemnda at arrangøren bør erstatte kr. 603,30 av de utgiftene som fremgår av klagen.\n",
      "\n",
      "Vedtak\n",
      "\n",
      "Nemnda anbefaler at klageren får erstattet utgifter med kr. 603,30.\n",
      "\n",
      "Nemndas representanter\n",
      "\n",
      "Wenche Skjæggestad  (leder)\n",
      "Anne Sofie Faye-Lund (Forbrukerrådet)\n",
      "Kristoffer Sørlie (Forbrukerrådet)\n",
      "Hanne Åsell (TUI Norge AS)\n",
      "Anne Edvardsen (Ving Norge AS)\n"
     ]
    }
   ],
   "source": [
    "import os\n",
    "import tika\n",
    "from tika import parser\n",
    "import re\n",
    "\n",
    "os.environ['TIKA_SERVER_ENDPOINT'] = 'http://localhost:9998'\n",
    "\n",
    "print(\"TIKA_SERVER_JAR =\", os.environ.get('TIKA_SERVER_JAR'))\n",
    "\n",
    "parsed_pdf = parser.from_file(\"./transportklagenemnda_pdfs/2016-00003.pdf\")\n",
    "vedtak_txt = parsed_pdf['content'].strip()\n",
    "\n",
    "# Bruker et regulært uttrykk for å identifisere sideskift etterfulgt av liten forbokstav\n",
    "pattern = r'\\n\\n\\n\\n(?=[a-z])'\n",
    "vedtak_txt = re.sub(pattern, '\\n', vedtak_txt)\n",
    "\n",
    "# Resten av sideskiftene bytter vi ut med to linjeskift\n",
    "vedtak_txt = vedtak_txt.replace('\\n\\n\\n\\n', '\\n\\n')\n",
    "# print(repr(vedtak_txt)) # repr() viser linjeskift i teksten\n",
    "print(vedtak_txt)\n"
   ]
  },
  {
   "cell_type": "markdown",
   "id": "fd27e0d9",
   "metadata": {},
   "source": [
    "Resultatet er bedre. Mye struktur er bevart, og vi har fjernet en rekke unødvendige linjeskift.\n",
    "\n",
    "*Arbeidet med å få orden på teksten med linjeskift og avsnitt burde i og for seg ha vært unødvendig. I Lovdata ligger teksten ferdig kodet med riktig struktur, men den er altså ikke allment tilgjengelig.* "
   ]
  },
  {
   "cell_type": "markdown",
   "id": "a8448509",
   "metadata": {},
   "source": [
    "## Konvertere alle vedtak til tekst\n",
    "\n",
    "Etter denne innledende utprøvingen, konverterer utvider vi koden slik at vi konverterer alle vedtak til ren tekst.\n",
    "(Vi skal gjøre en operasjon til på vedtakene, men skiller denne ut til et eget etterfølgende steg)"
   ]
  },
  {
   "cell_type": "code",
   "execution_count": 9,
   "id": "11b6d47b",
   "metadata": {},
   "outputs": [],
   "source": [
    "from tika import parser\n",
    "import os\n",
    "import re\n",
    "\n",
    "pdf_directory = './transportklagenemnda_pdfs/'\n",
    "txt_directory = './transportklagenmnda_txt/'\n",
    "\n",
    "for filename in os.listdir(pdf_directory):\n",
    "    if filename.endswith('.pdf'):\n",
    "        pdf_path = os.path.join(pdf_directory, filename)\n",
    "        parsed_pdf = parser.from_file(pdf_path)\n",
    "        vedtak_txt = parsed_pdf['content'].strip()\n",
    "\n",
    "        # Bruker et regulært uttrykk for å identifisere sideskift etterfulgt av liten forbokstav\n",
    "        pattern = r'\\n\\n\\n\\n(?=[a-z])'\n",
    "        vedtak_txt = re.sub(pattern, '\\n', vedtak_txt)\n",
    "\n",
    "        # Resten av sideskiftene bytter vi ut med to linjeskift\n",
    "        vedtak_txt = vedtak_txt.replace('\\n\\n\\n\\n', '\\n\\n')\n",
    "        \n",
    "        # Lagrer vedtak som ren tekst.\n",
    "        \n",
    "        # Setter sammen nytt navn til filene\n",
    "        txt_filename = os.path.splitext(filename)[0] + '.txt'  \n",
    "        txt_path = os.path.join(txt_directory, txt_filename)\n",
    "        \n",
    "        # Sjekker om folderen for lagring finnes, hvis ikke oppretter vi en\n",
    "        if not os.path.exists(txt_directory):\n",
    "            os.makedirs(txt_directory)\n",
    "\n",
    "        # Lagrer filen\n",
    "        with open(txt_path, 'w', encoding='utf-8') as txt_file:\n",
    "            txt_file.write(vedtak_txt) \n",
    "        "
   ]
  },
  {
   "cell_type": "markdown",
   "id": "cae6f07e",
   "metadata": {},
   "source": [
    "Resultatet er 12595 vedtak konvert til ren tekst og lagret som individuelle filer med endelsen '.txt'."
   ]
  },
  {
   "cell_type": "markdown",
   "id": "3c4b5661",
   "metadata": {},
   "source": [
    "## Fjerne nemndas representanter fra vedtaksteksten\n",
    "\n",
    "Alle vedtak ender med en liste over nemndas representanter. Til vårt formål er det ikke nødvendig å ha med denne informasjonen videre. Vi skal derfor slette denne informasjonen før vi tar i bruk vedtakene.\n",
    "\n",
    "For å være sikre på at vi bare sletter nemndas representanter, kjører vi en test. Vi identifiserer da overskriften \"Nemndas representanter\" og sjekker hvor mange linjer tekstt denne delen består av. \n",
    "\n",
    "Først sjekker vi om alle vedtakene har en slik overskrift."
   ]
  },
  {
   "cell_type": "code",
   "execution_count": 11,
   "id": "2c3e4749",
   "metadata": {},
   "outputs": [
    {
     "name": "stdout",
     "output_type": "stream",
     "text": [
      "13974\n"
     ]
    }
   ],
   "source": [
    "import os\n",
    "\n",
    "txt_directory = './transportklagenmnda_txt/'\n",
    "search_string = \"Nemndas representanter\\n\"\n",
    "teller = 0 # variabel for å telle hvor mange filer vi har sjekket\n",
    "\n",
    "# Looper over alle filer i folderen\n",
    "for filename in os.listdir(txt_directory):\n",
    "    if filename.endswith('.txt'):  \n",
    "        txt_path = os.path.join(txt_directory, filename)  \n",
    "        \n",
    "        # Leser inn filen\n",
    "        with open(txt_path, 'r', encoding='utf-8') as txt_file:  \n",
    "            file_content = txt_file.read()  \n",
    "            teller += 1\n",
    "            # Sjekker om det søkestrengen ikke er i filen\n",
    "            if search_string not in file_content:\n",
    "                print(f'\"{filename}\" inneholder ikke teksten \"{search_string.strip()}\"')\n",
    "       #    Kode for å sjekke at filene faktisk inneholder strengen.\n",
    "       #     if search_string  in file_content:\n",
    "       #         print(f'\"{filename}\" inneholder teksten \"{search_string.strip()}\"')\n",
    "                \n",
    "\n",
    "print(teller)\n"
   ]
  },
  {
   "cell_type": "markdown",
   "id": "5730d857",
   "metadata": {},
   "source": [
    "Dvs. at alle vedtak vi har lastet ned, har en slik test. Før vi fjerner teksten sjekker vi hvor mange linjer som kommer etter \"Nemndas representanter\""
   ]
  },
  {
   "cell_type": "code",
   "execution_count": 25,
   "id": "78a36666",
   "metadata": {},
   "outputs": [
    {
     "name": "stdout",
     "output_type": "stream",
     "text": [
      "Maks linjer: 12, Min linjer: 2, Gjennomsnitt antall linjer: 6.92\n",
      "Maks tegn: 842, Min tegn: 9, Gjennomsnitt antall tegn: 292.31\n",
      "Totalt antall sjekkede filer: 12595\n"
     ]
    }
   ],
   "source": [
    "import os\n",
    "import statistics  \n",
    "txt_directory = './transportklagenmnda_txt/'\n",
    "search_string = 'Nemndas representanter'\n",
    "resultater = []  # liste for å lagre resultatene som tupler (filnavn, antall_linjer, antall_tegn)\n",
    "\n",
    "# Looper over alle filer i mappen\n",
    "for filename in os.listdir(txt_directory):\n",
    "    if filename.endswith('.txt'):\n",
    "        txt_path = os.path.join(txt_directory, filename)\n",
    "\n",
    "        # Leser filen\n",
    "        with open(txt_path, 'r', encoding='utf-8') as txt_file:\n",
    "            file_content = txt_file.read()\n",
    "\n",
    "            # Finn posisjonen til søkestrengen i filinnholdet\n",
    "            index = file_content.find(search_string)\n",
    "\n",
    "            # Hvis strengen ble funnet, beregne linjer og tegn etter den\n",
    "            if index != -1:\n",
    "                # Legg til lengden på søkestrengen til indeksen for å starte tellingen etter strengen\n",
    "                index += len(search_string)\n",
    "\n",
    "                # Hent innholdet etter søkestrengen\n",
    "                remaining_content = file_content[index:]\n",
    "\n",
    "                # Tell antall linjer ved å splitte det gjenværende innholdet med nye linjer\n",
    "                line_count = remaining_content.count('\\n')\n",
    "\n",
    "                # Tell antall tegn i det gjenværende innholdet\n",
    "                character_count = len(remaining_content)\n",
    "\n",
    "                # Lagre resultatene i listen som en tuple\n",
    "                resultater.append((filename, line_count, character_count))\n",
    "\n",
    "# Beregn og skriv ut beskrivende statistikk\n",
    "if resultater:  # sjekk om resultatlisten ikke er tom\n",
    "    # Pakk ut antall linjer og tegn\n",
    "    _, line_counts, char_counts = zip(*resultater)\n",
    "\n",
    "    # Beregning av statistikk for antall linjer\n",
    "    max_lines = max(line_counts)\n",
    "    min_lines = min(line_counts)\n",
    "    avg_lines = statistics.mean(line_counts) \n",
    "\n",
    "    # Beregning av statistikk for antall tegn\n",
    "    max_chars = max(char_counts)\n",
    "    min_chars = min(char_counts)\n",
    "    avg_chars = statistics.mean(char_counts) \n",
    "\n",
    "    # Skriver ut statistikken\n",
    "    print(f\"Maks linjer: {max_lines}, Min linjer: {min_lines}, Gjennomsnitt antall linjer: {avg_lines:.2f}\")\n",
    "    print(f\"Maks tegn: {max_chars}, Min tegn: {min_chars}, Gjennomsnitt antall tegn: {avg_chars:.2f}\")\n",
    "else:\n",
    "    print(\"Ingen resultater funnet.\")\n",
    "\n",
    "print(f'Totalt antall sjekkede filer: {len(resultater)}')\n"
   ]
  },
  {
   "cell_type": "markdown",
   "id": "7688fe34",
   "metadata": {},
   "source": [
    "Resultatet er betryggende. Vedtak med kun to linjer er «tomme» vedtak, der resultatet er et forlik mellom partene. Vi fjerner derfor overskriften \"Nemndas representanter\" og resten av teksten som følger etter. Forbeholdet fra Lovdata kommer etter «Nemndas representanter» og blir derfor også fjernet. "
   ]
  },
  {
   "cell_type": "code",
   "execution_count": 12,
   "id": "8c455f57",
   "metadata": {},
   "outputs": [],
   "source": [
    "import os\n",
    "\n",
    "txt_directory = './transportklagenmnda_txt/'\n",
    "search_string = 'Nemndas representanter\\n'  # Ny linje-tegnet er lagt til for å sikre at vi finner den eksakte linjen\n",
    "\n",
    "# Looper over alle filer i mappen\n",
    "for filename in os.listdir(txt_directory):\n",
    "    if filename.endswith('.txt'):\n",
    "        txt_path = os.path.join(txt_directory, filename)\n",
    "\n",
    "        # Åpner og leser filen\n",
    "        with open(txt_path, 'r', encoding='utf-8') as txt_file:\n",
    "            file_content = txt_file.readlines()  # readlines() brukes for å få en liste av linjer\n",
    "\n",
    "        line_found = False\n",
    "        for line in file_content:\n",
    "            if search_string in line:\n",
    "                line_found = True\n",
    "                break  # Avslutter løkken hvis linjen er funnet\n",
    "\n",
    "        if line_found:\n",
    "            # Finner indeksen til linjen som inneholder søkestrengen\n",
    "            index = file_content.index(search_string)\n",
    "            # Beholder bare innholdet før den funnede linjen\n",
    "            file_content = file_content[:index]\n",
    "\n",
    "            # Skriver linjene tilbake til filen uten ekstra linjeskift\n",
    "            with open(txt_path, 'w', encoding='utf-8') as txt_file:\n",
    "                # Konverterer listen av linjer til en enkelt streng og linjeskift til sist i dokumentet\n",
    "                file_content_str = ''.join(file_content).rstrip()\n",
    "                # Skriver den bearbeidede strengen til filen\n",
    "                txt_file.write(file_content_str)\n",
    "\n"
   ]
  },
  {
   "cell_type": "markdown",
   "id": "a53885ab",
   "metadata": {},
   "source": [
    "Resultatet er en folder med alle vedtak i tekstformat. Alle vedtak er renset for informasjon om nemndas representanter. "
   ]
  },
  {
   "cell_type": "markdown",
   "id": "a5d8b20c",
   "metadata": {},
   "source": [
    "## Deskriptiv statistikk over vedtakskorpuset"
   ]
  },
  {
   "cell_type": "code",
   "execution_count": 13,
   "id": "e545a554",
   "metadata": {},
   "outputs": [
    {
     "name": "stdout",
     "output_type": "stream",
     "text": [
      "Antall: 13974\n",
      "Gjennomsnitt: 705.3\n",
      "Median: 624.0\n",
      "Minimum: 28\n",
      "Maksimum: 3862\n",
      "Standardavvik: 349.2\n"
     ]
    },
    {
     "data": {
      "image/png": "[encoded data removed]",
      "text/plain": [
       "<Figure size 640x480 with 1 Axes>"
      ]
     },
     "metadata": {},
     "output_type": "display_data"
    }
   ],
   "source": [
    "import os\n",
    "import statistics\n",
    "import matplotlib.pyplot as plt\n",
    "\n",
    "# Funksjon for å telle ord i en fil\n",
    "def count_words_in_file(file_path):\n",
    "    try:\n",
    "        with open(file_path, 'r') as file:\n",
    "            contents = file.read()\n",
    "            words = contents.split()\n",
    "            return len(words)\n",
    "    except Exception as e:\n",
    "        print(f\"Feil under lesing av {file_path}: {e}\")\n",
    "        return None\n",
    "\n",
    "# Spesifiser banen til mappen din her\n",
    "directory_path = 'transportklagenmnda_txt/'\n",
    "\n",
    "# Liste for lagring av ordtelling\n",
    "word_counts = []\n",
    "\n",
    "# Går gjennom hver fil i mappen\n",
    "for filename in os.listdir(directory_path):\n",
    "    if filename.endswith(\".txt\"):  # Sjekker filtypen for å sikre at det er en tekstfil\n",
    "        full_file_path = os.path.join(directory_path, filename)\n",
    "        word_count = count_words_in_file(full_file_path)\n",
    "        if word_count is not None:\n",
    "            word_counts.append(word_count)\n",
    "\n",
    "# Sjekker at det finnes ordtellinger for å beregne statistikk\n",
    "if word_counts:\n",
    "    # Beregner og skriver ut beskrivende statistikk\n",
    "    print(f\"Antall: {len(word_counts)}\")\n",
    "    print(f\"Gjennomsnitt: {round(statistics.mean(word_counts),1)}\")\n",
    "    print(f\"Median: {statistics.median(word_counts)}\")\n",
    "    print(f\"Minimum: {min(word_counts)}\")\n",
    "    print(f\"Maksimum: {max(word_counts)}\")\n",
    "    print(f\"Standardavvik: {round(statistics.stdev(word_counts),1)}\")\n",
    "    \n",
    "    # Lager et histogram over ordtellingene\n",
    "    plt.hist(word_counts, bins=30, alpha=0.75, color='red')\n",
    "    plt.xlabel('Antall ord')\n",
    "    plt.ylabel('Frekvens')\n",
    "    plt.title('Histogram av ordtellinger i filer')\n",
    "    plt.grid(True)\n",
    "    plt.show()\n",
    "\n",
    "else:\n",
    "    print(\"Ingen ordtellinger å beregne statistikk for.\")\n"
   ]
  },
  {
   "cell_type": "markdown",
   "id": "4c6f10f9",
   "metadata": {},
   "source": [
    "Statistikken viser at vi har noen dokumenter opp mot 3862 ord. Det betyr at noen av vedtakene har en lengde, og at anførsler og begrunnelser har et omfang som det må tas hensyn til når vi skal bruke tekstene som kontekst mot språkmodeller. Som en forberedelse undersøker vi derfor de lengste vedtakene litt nærmere."
   ]
  },
  {
   "cell_type": "code",
   "execution_count": 16,
   "id": "2cfbb165",
   "metadata": {},
   "outputs": [
    {
     "name": "stdout",
     "output_type": "stream",
     "text": [
      "Antall dokumenter over 1800 ord: 177\n",
      "Antall dokumenter over 3000 ord: 14\n",
      "Minimum: 1803\n",
      "Maksimum: 3862\n"
     ]
    },
    {
     "data": {
      "image/png": "[encoded data removed]",
      "text/plain": [
       "<Figure size 640x480 with 1 Axes>"
      ]
     },
     "metadata": {},
     "output_type": "display_data"
    }
   ],
   "source": [
    "# Definerer først en grense for hva som er et \"langt\" dokument.\n",
    "langt_dokument = 1800\n",
    "veldig_veldig_langt_dokument = 3000\n",
    "\n",
    "# Filtrerer listen med ordtellinger slik at vi står igjen med lange dokumenter.\n",
    "ordtellinger_lange = [count for count in word_counts if count >= langt_dokument]\n",
    "ordtellinger_veldig_lange = [count for count in word_counts if count >= veldig_veldig_langt_dokument]\n",
    "\n",
    "# Lager statistikk for disse dokumentene\n",
    "# Sjekker at det finnes ordtellinger for å beregne statistikk\n",
    "if ordtellinger_lange:\n",
    "    # Beregner og skriver ut beskrivende statistikk\n",
    "    print(f\"Antall dokumenter over 1800 ord: {len(ordtellinger_lange)}\")\n",
    "    print(f\"Antall dokumenter over 3000 ord: {len(ordtellinger_veldig_lange)}\")\n",
    "\n",
    "    print(f\"Minimum: {min(ordtellinger_lange)}\")\n",
    "    print(f\"Maksimum: {max(ordtellinger_lange)}\")\n",
    "    \n",
    "    # Lager et histogram over ordtellingene\n",
    "    plt.hist(ordtellinger_lange, bins=30, alpha=0.75, color='red')\n",
    "    plt.xlabel('Antall ord')\n",
    "    plt.ylabel('Frekvens')\n",
    "    plt.title('Histogram over antall ord i vedtak med flere enn 1800 ord')\n",
    "    plt.grid(True)\n",
    "    plt.show()\n",
    "\n",
    "else:\n",
    "    print(\"Ingen ordtellinger å beregne statistikk for.\")\n"
   ]
  },
  {
   "cell_type": "markdown",
   "id": "52a012bc",
   "metadata": {},
   "source": [
    "Vi har 14 vedtak over 3000 ord og 177 vedtak over 2400 ord. Dette er en påminnelse om å sjekke lengden på hele eller deler av vedtaket når de skal brukes som kontekst."
   ]
  },
  {
   "cell_type": "code",
   "execution_count": null,
   "id": "8833a979-d5f1-4784-b311-7fc5f9d69178",
   "metadata": {},
   "outputs": [],
   "source": []
  },
  {
   "cell_type": "markdown",
   "id": "21f0e604-5350-4deb-a373-e1999f95bfa7",
   "metadata": {},
   "source": [
    "# "
   ]
  }
 ],
 "metadata": {
  "kernelspec": {
   "display_name": "Python 3 (ipykernel)",
   "language": "python",
   "name": "python3"
  },
  "language_info": {
   "codemirror_mode": {
    "name": "ipython",
    "version": 3
   },
   "file_extension": ".py",
   "mimetype": "text/x-python",
   "name": "python",
   "nbconvert_exporter": "python",
   "pygments_lexer": "ipython3",
   "version": "3.12.3"
  }
 },
 "nbformat": 4,
 "nbformat_minor": 5
}
